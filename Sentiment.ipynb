{
  "nbformat": 4,
  "nbformat_minor": 0,
  "metadata": {
    "colab": {
      "provenance": [],
      "toc_visible": true,
      "authorship_tag": "ABX9TyNE+xHkuHI8/LubMM0jNEXl",
      "include_colab_link": true
    },
    "kernelspec": {
      "name": "python3",
      "display_name": "Python 3"
    },
    "language_info": {
      "name": "python"
    },
    "accelerator": "TPU"
  },
  "cells": [
    {
      "cell_type": "markdown",
      "metadata": {
        "id": "view-in-github",
        "colab_type": "text"
      },
      "source": [
        "<a href=\"https://colab.research.google.com/github/Jiali03713/Sentiment-NLP-/blob/main/Sentiment.ipynb\" target=\"_parent\"><img src=\"https://colab.research.google.com/assets/colab-badge.svg\" alt=\"Open In Colab\"/></a>"
      ]
    },
    {
      "cell_type": "code",
      "source": [
        "!git clone https://github.com/keras-team/keras-tuner\n",
        "!cd keras-tuner\n",
        "!pip install keras-tuner --upgrade\n",
        "\n",
        "from kerastuner import tuners"
      ],
      "metadata": {
        "colab": {
          "base_uri": "https://localhost:8080/"
        },
        "id": "33lN6Qmup-_X",
        "outputId": "bb974e3f-c89c-4432-b866-d8104fd47952"
      },
      "execution_count": null,
      "outputs": [
        {
          "output_type": "stream",
          "name": "stdout",
          "text": [
            "Cloning into 'keras-tuner'...\n",
            "remote: Enumerating objects: 9212, done.\u001b[K\n",
            "remote: Counting objects: 100% (805/805), done.\u001b[K\n",
            "remote: Compressing objects: 100% (257/257), done.\u001b[K\n",
            "remote: Total 9212 (delta 639), reused 639 (delta 548), pack-reused 8407\u001b[K\n",
            "Receiving objects: 100% (9212/9212), 2.16 MiB | 6.54 MiB/s, done.\n",
            "Resolving deltas: 100% (6572/6572), done.\n",
            "Collecting keras-tuner\n",
            "  Downloading keras_tuner-1.4.6-py3-none-any.whl (128 kB)\n",
            "\u001b[2K     \u001b[90m━━━━━━━━━━━━━━━━━━━━━━━━━━━━━━━━━━━━━━━━\u001b[0m \u001b[32m128.9/128.9 kB\u001b[0m \u001b[31m688.4 kB/s\u001b[0m eta \u001b[36m0:00:00\u001b[0m\n",
            "\u001b[?25hRequirement already satisfied: keras in /usr/local/lib/python3.10/dist-packages (from keras-tuner) (2.12.0)\n",
            "Requirement already satisfied: packaging in /usr/local/lib/python3.10/dist-packages (from keras-tuner) (23.2)\n",
            "Requirement already satisfied: requests in /usr/local/lib/python3.10/dist-packages (from keras-tuner) (2.31.0)\n",
            "Collecting kt-legacy (from keras-tuner)\n",
            "  Downloading kt_legacy-1.0.5-py3-none-any.whl (9.6 kB)\n",
            "Requirement already satisfied: charset-normalizer<4,>=2 in /usr/local/lib/python3.10/dist-packages (from requests->keras-tuner) (3.3.2)\n",
            "Requirement already satisfied: idna<4,>=2.5 in /usr/local/lib/python3.10/dist-packages (from requests->keras-tuner) (3.6)\n",
            "Requirement already satisfied: urllib3<3,>=1.21.1 in /usr/local/lib/python3.10/dist-packages (from requests->keras-tuner) (2.0.7)\n",
            "Requirement already satisfied: certifi>=2017.4.17 in /usr/local/lib/python3.10/dist-packages (from requests->keras-tuner) (2023.11.17)\n",
            "Installing collected packages: kt-legacy, keras-tuner\n",
            "Successfully installed keras-tuner-1.4.6 kt-legacy-1.0.5\n"
          ]
        },
        {
          "output_type": "stream",
          "name": "stderr",
          "text": [
            "<ipython-input-1-3d5757166e11>:5: DeprecationWarning: `import kerastuner` is deprecated, please use `import keras_tuner`.\n",
            "  from kerastuner import tuners\n"
          ]
        }
      ]
    },
    {
      "cell_type": "code",
      "source": [
        "from google.colab import drive\n",
        "drive.mount('/content/drive')"
      ],
      "metadata": {
        "id": "7KI9-FsLA4_y"
      },
      "execution_count": null,
      "outputs": []
    },
    {
      "cell_type": "code",
      "source": [
        "%cd /content/drive/MyDrive/'Colab Notebooks'"
      ],
      "metadata": {
        "colab": {
          "base_uri": "https://localhost:8080/"
        },
        "id": "chpHIAYhBVIC",
        "outputId": "e7e2c472-5b0d-41d6-bef3-dae7ca12ffba"
      },
      "execution_count": null,
      "outputs": [
        {
          "output_type": "stream",
          "name": "stdout",
          "text": [
            "/content/drive/MyDrive/Colab Notebooks\n"
          ]
        }
      ]
    },
    {
      "cell_type": "code",
      "execution_count": null,
      "metadata": {
        "id": "UukN_1dOpolh"
      },
      "outputs": [],
      "source": [
        "# from textblob import TextBlob\n",
        "# from vaderSentiment.vaderSentiment import SentimentIntensityAnalyzer\n",
        "# from flair.models import TextClassifier\n",
        "# from flair.data import Sentence\n",
        "import tensorflow as tf\n",
        "import tensorflow_hub as hub\n",
        "\n",
        "import keras\n",
        "from keras import Sequential\n",
        "from keras.layers import Dense, Input\n",
        "from keras.callbacks import EarlyStopping\n",
        "from keras.optimizers import Adam\n",
        "from keras.optimizers import schedules\n",
        "from keras.optimizers import SGD\n",
        "from keras.optimizers.schedules import ExponentialDecay\n",
        "\n",
        "\n",
        "import matplotlib.pyplot as plt\n",
        "from kerastuner import HyperParameters\n",
        "from kerastuner import tuners\n",
        "from sklearn.utils import shuffle\n",
        "from sklearn.model_selection import train_test_split\n",
        "\n",
        "\n",
        "import numpy as np\n",
        "import os\n",
        "import pandas as pd\n",
        "import keras_tuner\n",
        "\n",
        "import csv"
      ]
    },
    {
      "cell_type": "code",
      "source": [],
      "metadata": {
        "id": "_k-sK6bAHYcb"
      },
      "execution_count": null,
      "outputs": []
    },
    {
      "cell_type": "code",
      "source": [
        "DATASET_ENCODING = \"latin-1\"\n",
        "\n",
        "# #textblob\n",
        "# testimonial = TextBlob(\"The food was great...\")\n",
        "# print(testimonial.sentiment)\n",
        "#\n",
        "# #Vader\n",
        "# analyer = SentimentIntensityAnalyzer()\n",
        "# sentence = \"The food was disgusting\"\n",
        "# vs = analyer.polarity_scores(sentence)\n",
        "# print(vs)\n",
        "\n",
        "# classifier = TextClassifier.load('en-sentiment')\n",
        "# sentence = Sentence('The party is savage!')\n",
        "# classifier.predict(sentence)\n",
        "# print('Sentence above is:', sentence.labels)\n",
        "\n",
        "file_path = '/content/training.1600000.processed.noemoticon.csv'\n",
        "\n",
        "const = pd.read_csv(file_path, encoding=DATASET_ENCODING, engine='python')\n",
        "const = const.iloc[:, [0, -1]]\n",
        "const.columns = ['sentiment', 'tweet']\n",
        "const = pd.concat([const.query(\"sentiment==0\").sample(20000), const.query(\"sentiment==4\").sample(20000)])\n",
        "const.sentiment = const.sentiment.map({0: 0, 4: 1})\n",
        "const = shuffle(const).reset_index(drop=True)\n",
        "\n",
        "const, const_test = train_test_split(const, test_size=0.2)\n",
        "\n",
        "embed = hub.load(\"https://tfhub.dev/google/universal-sentence-encoder/4\")\n",
        "embed(['hi samuels, this is our project']).numpy().shape\n",
        "\n"
      ],
      "metadata": {
        "colab": {
          "base_uri": "https://localhost:8080/"
        },
        "id": "ldoIKE5NpuLd",
        "outputId": "77bf667b-3dbc-4e21-af83-e4de50002cdf"
      },
      "execution_count": null,
      "outputs": [
        {
          "output_type": "execute_result",
          "data": {
            "text/plain": [
              "(1, 512)"
            ]
          },
          "metadata": {},
          "execution_count": 33
        }
      ]
    },
    {
      "cell_type": "code",
      "source": [
        "df = const.copy()\n",
        "df_test = const_test.copy()"
      ],
      "metadata": {
        "id": "MlOD1F705oAx"
      },
      "execution_count": null,
      "outputs": []
    },
    {
      "cell_type": "code",
      "source": [
        "def vectorize(df):\n",
        "\tembeded_tweets = embed(df['tweet'].values.tolist()).numpy()\n",
        "\ttargets = df.sentiment.values\n",
        "\treturn embeded_tweets, targets\n",
        "\n",
        "\n",
        "embeded_tweets, targets = vectorize(df)"
      ],
      "metadata": {
        "id": "rl6gVMgRtv8F"
      },
      "execution_count": null,
      "outputs": []
    },
    {
      "cell_type": "code",
      "source": [
        "early_stopping = EarlyStopping(\n",
        "\tmin_delta=0.005,\n",
        "\tpatience=30,\n",
        "\trestore_best_weights=True,\n",
        ")\n"
      ],
      "metadata": {
        "id": "o4PpoNj4txmH"
      },
      "execution_count": null,
      "outputs": []
    },
    {
      "cell_type": "code",
      "source": [
        "hp = keras_tuner.HyperParameters()\n",
        "# Learning Rate\n",
        "initial_learning_rate = 0.01\n",
        "lr_schedule = schedules.ExponentialDecay(\n",
        "\tinitial_learning_rate, decay_steps=10000, decay_rate=0.9, staircase=True\n",
        ")\n",
        "optimizer = SGD(learning_rate=lr_schedule)\n",
        "learning_rate = hp.Float(\"lr\", min_value=1e-3, max_value=1e-2, sampling=\"log\")\n"
      ],
      "metadata": {
        "id": "aF1dNoD9t25G"
      },
      "execution_count": null,
      "outputs": []
    },
    {
      "cell_type": "code",
      "source": [
        "# Model Setting\n",
        "model = keras.Sequential([\n",
        "\tkeras.layers.BatchNormalization(input_shape=(512,)),\n",
        "\tkeras.layers.Dense(units=hp.Int(name=\"units1\", min_value=32, max_value=256, step=32),\n",
        "\t\t\t\t\t   activation='LeakyReLU'),\n",
        "\tkeras.layers.Dense(units=hp.Int(name=\"units2\", min_value=32, max_value=256, step=32),\n",
        "\t\t\t\t\t   activation='LeakyReLU'),\n",
        "\tkeras.layers.Dense(1)\n",
        "]\n",
        ")"
      ],
      "metadata": {
        "id": "lOPSHvIAt4PP"
      },
      "execution_count": null,
      "outputs": []
    },
    {
      "cell_type": "code",
      "source": [
        "model.compile(loss='binary_crossentropy',\n",
        "\t\t\t  optimizer=keras.optimizers.Adam(learning_rate=learning_rate),\n",
        "\t\t\t  metrics=['accuracy', tf.keras.metrics.Recall()])\n",
        "num_epochs = 150\n",
        "batch_size = 64  ## 2^x\n",
        "history = model.fit(embeded_tweets,\n",
        "\t\t\t\t\ttargets,\n",
        "\t\t\t\t\tepochs=num_epochs,\n",
        "\t\t\t\t\tvalidation_split=0.3,\n",
        "\t\t\t\t\tshuffle=True,\n",
        "\t\t\t\t\tbatch_size=batch_size,\n",
        "\t\t\t\t\tcallbacks=[early_stopping])"
      ],
      "metadata": {
        "colab": {
          "base_uri": "https://localhost:8080/"
        },
        "id": "2iA5Vwoyt8L4",
        "outputId": "00fa4bba-e88a-48ac-d8c2-8402386006b9"
      },
      "execution_count": null,
      "outputs": [
        {
          "output_type": "stream",
          "name": "stdout",
          "text": [
            "Epoch 1/150\n",
            "350/350 [==============================] - 3s 4ms/step - loss: 2.8035 - accuracy: 0.6811 - recall_4: 0.6692 - val_loss: 0.6907 - val_accuracy: 0.6686 - val_recall_4: 0.4375\n",
            "Epoch 2/150\n",
            "350/350 [==============================] - 2s 6ms/step - loss: 1.3298 - accuracy: 0.6954 - recall_4: 0.6821 - val_loss: 0.7532 - val_accuracy: 0.6975 - val_recall_4: 0.6190\n",
            "Epoch 3/150\n",
            "350/350 [==============================] - 2s 6ms/step - loss: 0.8334 - accuracy: 0.6937 - recall_4: 0.6366 - val_loss: 0.7367 - val_accuracy: 0.7070 - val_recall_4: 0.6596\n",
            "Epoch 4/150\n",
            "350/350 [==============================] - 1s 4ms/step - loss: 0.6664 - accuracy: 0.7067 - recall_4: 0.6844 - val_loss: 0.6342 - val_accuracy: 0.7264 - val_recall_4: 0.7057\n",
            "Epoch 5/150\n",
            "350/350 [==============================] - 1s 4ms/step - loss: 0.5995 - accuracy: 0.7295 - recall_4: 0.6786 - val_loss: 0.5960 - val_accuracy: 0.7228 - val_recall_4: 0.6615\n",
            "Epoch 6/150\n",
            "350/350 [==============================] - 1s 4ms/step - loss: 0.5761 - accuracy: 0.7387 - recall_4: 0.7021 - val_loss: 0.6060 - val_accuracy: 0.7462 - val_recall_4: 0.7441\n",
            "Epoch 7/150\n",
            "350/350 [==============================] - 1s 4ms/step - loss: 0.5719 - accuracy: 0.7417 - recall_4: 0.7069 - val_loss: 0.5934 - val_accuracy: 0.7475 - val_recall_4: 0.7355\n",
            "Epoch 8/150\n",
            "350/350 [==============================] - 1s 4ms/step - loss: 0.5560 - accuracy: 0.7455 - recall_4: 0.7024 - val_loss: 0.6184 - val_accuracy: 0.7549 - val_recall_4: 0.7534\n",
            "Epoch 9/150\n",
            "350/350 [==============================] - 1s 4ms/step - loss: 0.5434 - accuracy: 0.7544 - recall_4: 0.7366 - val_loss: 0.7049 - val_accuracy: 0.6974 - val_recall_4: 0.7338\n",
            "Epoch 10/150\n",
            "350/350 [==============================] - 4s 12ms/step - loss: 0.5659 - accuracy: 0.7523 - recall_4: 0.7315 - val_loss: 0.7606 - val_accuracy: 0.6107 - val_recall_4: 0.3914\n",
            "Epoch 11/150\n",
            "350/350 [==============================] - 2s 5ms/step - loss: 0.5912 - accuracy: 0.7378 - recall_4: 0.7040 - val_loss: 1.2666 - val_accuracy: 0.5776 - val_recall_4: 0.2199\n",
            "Epoch 12/150\n",
            "350/350 [==============================] - 1s 4ms/step - loss: 0.6053 - accuracy: 0.7223 - recall_4: 0.6727 - val_loss: 0.5830 - val_accuracy: 0.7419 - val_recall_4: 0.7032\n",
            "Epoch 13/150\n",
            "350/350 [==============================] - 1s 4ms/step - loss: 0.5434 - accuracy: 0.7426 - recall_4: 0.6914 - val_loss: 0.5699 - val_accuracy: 0.7517 - val_recall_4: 0.7472\n",
            "Epoch 14/150\n",
            "350/350 [==============================] - 1s 4ms/step - loss: 0.5191 - accuracy: 0.7564 - recall_4: 0.7322 - val_loss: 0.5580 - val_accuracy: 0.7534 - val_recall_4: 0.7299\n",
            "Epoch 15/150\n",
            "350/350 [==============================] - 1s 4ms/step - loss: 0.5334 - accuracy: 0.7487 - recall_4: 0.7755 - val_loss: 0.5825 - val_accuracy: 0.7510 - val_recall_4: 0.7549\n",
            "Epoch 16/150\n",
            "350/350 [==============================] - 1s 4ms/step - loss: 0.7850 - accuracy: 0.7196 - recall_4: 0.7371 - val_loss: 0.8167 - val_accuracy: 0.6577 - val_recall_4: 0.6903\n",
            "Epoch 17/150\n",
            "350/350 [==============================] - 1s 4ms/step - loss: 0.5646 - accuracy: 0.7480 - recall_4: 0.7423 - val_loss: 0.5967 - val_accuracy: 0.7589 - val_recall_4: 0.7503\n",
            "Epoch 18/150\n",
            "350/350 [==============================] - 2s 6ms/step - loss: 0.5318 - accuracy: 0.7636 - recall_4: 0.7602 - val_loss: 0.5776 - val_accuracy: 0.7589 - val_recall_4: 0.7464\n",
            "Epoch 19/150\n",
            "350/350 [==============================] - 2s 6ms/step - loss: 0.7899 - accuracy: 0.7134 - recall_4: 0.7149 - val_loss: 0.6793 - val_accuracy: 0.6963 - val_recall_4: 0.6150\n",
            "Epoch 20/150\n",
            "350/350 [==============================] - 2s 4ms/step - loss: 0.6031 - accuracy: 0.7237 - recall_4: 0.6608 - val_loss: 0.5939 - val_accuracy: 0.7396 - val_recall_4: 0.7013\n",
            "Epoch 21/150\n",
            "350/350 [==============================] - 3s 8ms/step - loss: 0.5375 - accuracy: 0.7552 - recall_4: 0.7300 - val_loss: 0.5623 - val_accuracy: 0.7558 - val_recall_4: 0.7439\n",
            "Epoch 22/150\n",
            "350/350 [==============================] - 1s 4ms/step - loss: 0.7842 - accuracy: 0.7195 - recall_4: 0.7064 - val_loss: 1.5512 - val_accuracy: 0.6367 - val_recall_4: 0.4356\n",
            "Epoch 23/150\n",
            "350/350 [==============================] - 1s 4ms/step - loss: 0.8358 - accuracy: 0.6994 - recall_4: 0.6866 - val_loss: 0.6344 - val_accuracy: 0.7116 - val_recall_4: 0.7491\n",
            "Epoch 24/150\n",
            "350/350 [==============================] - 1s 4ms/step - loss: 0.5664 - accuracy: 0.7278 - recall_4: 0.7051 - val_loss: 0.6002 - val_accuracy: 0.7264 - val_recall_4: 0.7022\n",
            "Epoch 25/150\n",
            "350/350 [==============================] - 1s 4ms/step - loss: 0.5899 - accuracy: 0.7354 - recall_4: 0.7479 - val_loss: 0.6753 - val_accuracy: 0.6598 - val_recall_4: 0.6961\n",
            "Epoch 26/150\n",
            "350/350 [==============================] - 2s 5ms/step - loss: 0.5815 - accuracy: 0.7161 - recall_4: 0.7399 - val_loss: 0.5958 - val_accuracy: 0.7276 - val_recall_4: 0.7368\n",
            "Epoch 27/150\n",
            "350/350 [==============================] - 2s 6ms/step - loss: 1.3390 - accuracy: 0.6119 - recall_4: 0.5802 - val_loss: 0.6885 - val_accuracy: 0.6890 - val_recall_4: 0.6936\n",
            "Epoch 28/150\n",
            "350/350 [==============================] - 2s 5ms/step - loss: 0.6025 - accuracy: 0.7114 - recall_4: 0.6758 - val_loss: 0.6120 - val_accuracy: 0.7300 - val_recall_4: 0.7147\n",
            "Epoch 29/150\n",
            "350/350 [==============================] - 1s 4ms/step - loss: 0.5543 - accuracy: 0.7425 - recall_4: 0.7127 - val_loss: 0.5905 - val_accuracy: 0.7478 - val_recall_4: 0.7086\n",
            "Epoch 30/150\n",
            "350/350 [==============================] - 1s 4ms/step - loss: 0.9618 - accuracy: 0.6904 - recall_4: 0.7139 - val_loss: 2.0658 - val_accuracy: 0.4764 - val_recall_4: 0.6571\n",
            "Epoch 31/150\n",
            "350/350 [==============================] - 1s 4ms/step - loss: 0.9248 - accuracy: 0.5468 - recall_4: 0.5489 - val_loss: 0.6813 - val_accuracy: 0.6256 - val_recall_4: 0.6963\n",
            "Epoch 32/150\n",
            "350/350 [==============================] - 2s 5ms/step - loss: 0.6154 - accuracy: 0.6775 - recall_4: 0.7165 - val_loss: 0.5996 - val_accuracy: 0.7021 - val_recall_4: 0.7363\n",
            "Epoch 33/150\n",
            "350/350 [==============================] - 1s 4ms/step - loss: 0.5679 - accuracy: 0.7231 - recall_4: 0.7552 - val_loss: 0.5648 - val_accuracy: 0.7346 - val_recall_4: 0.7222\n",
            "Epoch 34/150\n",
            "350/350 [==============================] - 1s 4ms/step - loss: 0.5707 - accuracy: 0.7429 - recall_4: 0.7113 - val_loss: 0.6071 - val_accuracy: 0.7118 - val_recall_4: 0.5900\n",
            "Epoch 35/150\n",
            "350/350 [==============================] - 2s 5ms/step - loss: 0.5511 - accuracy: 0.7416 - recall_4: 0.7000 - val_loss: 0.5715 - val_accuracy: 0.7525 - val_recall_4: 0.7418\n",
            "Epoch 36/150\n",
            "350/350 [==============================] - 2s 5ms/step - loss: 0.5522 - accuracy: 0.7366 - recall_4: 0.7691 - val_loss: 0.5550 - val_accuracy: 0.7513 - val_recall_4: 0.7543\n",
            "Epoch 37/150\n",
            "350/350 [==============================] - 1s 4ms/step - loss: 0.5252 - accuracy: 0.7588 - recall_4: 0.7525 - val_loss: 0.5548 - val_accuracy: 0.7630 - val_recall_4: 0.7655\n",
            "Epoch 38/150\n",
            "350/350 [==============================] - 1s 4ms/step - loss: 0.5190 - accuracy: 0.7663 - recall_4: 0.7621 - val_loss: 0.5457 - val_accuracy: 0.7642 - val_recall_4: 0.7607\n",
            "Epoch 39/150\n",
            "350/350 [==============================] - 1s 4ms/step - loss: 0.5121 - accuracy: 0.7664 - recall_4: 0.7431 - val_loss: 0.5497 - val_accuracy: 0.7683 - val_recall_4: 0.7707\n",
            "Epoch 40/150\n",
            "350/350 [==============================] - 1s 4ms/step - loss: 0.5074 - accuracy: 0.7682 - recall_4: 0.7481 - val_loss: 0.5515 - val_accuracy: 0.7717 - val_recall_4: 0.7747\n",
            "Epoch 41/150\n",
            "350/350 [==============================] - 1s 4ms/step - loss: 0.5042 - accuracy: 0.7686 - recall_4: 0.7298 - val_loss: 0.5386 - val_accuracy: 0.7651 - val_recall_4: 0.7472\n",
            "Epoch 42/150\n",
            "350/350 [==============================] - 1s 4ms/step - loss: 0.4964 - accuracy: 0.7733 - recall_4: 0.7518 - val_loss: 0.5365 - val_accuracy: 0.7657 - val_recall_4: 0.7459\n",
            "Epoch 43/150\n",
            "350/350 [==============================] - 1s 4ms/step - loss: 0.5194 - accuracy: 0.7617 - recall_4: 0.7204 - val_loss: 0.9876 - val_accuracy: 0.5213 - val_recall_4: 0.0475\n",
            "Epoch 44/150\n",
            "350/350 [==============================] - 2s 5ms/step - loss: 0.5901 - accuracy: 0.6994 - recall_4: 0.7439 - val_loss: 0.5528 - val_accuracy: 0.7323 - val_recall_4: 0.6982\n",
            "Epoch 45/150\n",
            "350/350 [==============================] - 2s 6ms/step - loss: 0.5211 - accuracy: 0.7584 - recall_4: 0.7753 - val_loss: 0.5358 - val_accuracy: 0.7576 - val_recall_4: 0.7893\n",
            "Epoch 46/150\n",
            "350/350 [==============================] - 1s 4ms/step - loss: 0.5086 - accuracy: 0.7668 - recall_4: 0.7675 - val_loss: 0.5406 - val_accuracy: 0.7555 - val_recall_4: 0.6830\n",
            "Epoch 47/150\n",
            "350/350 [==============================] - 1s 4ms/step - loss: 0.5121 - accuracy: 0.7650 - recall_4: 0.7400 - val_loss: 0.5460 - val_accuracy: 0.7676 - val_recall_4: 0.7682\n",
            "Epoch 48/150\n",
            "350/350 [==============================] - 1s 4ms/step - loss: 0.5224 - accuracy: 0.7580 - recall_4: 0.7233 - val_loss: 0.5206 - val_accuracy: 0.7617 - val_recall_4: 0.7645\n",
            "Epoch 49/150\n",
            "350/350 [==============================] - 1s 4ms/step - loss: 0.4983 - accuracy: 0.7690 - recall_4: 0.7578 - val_loss: 0.5279 - val_accuracy: 0.7639 - val_recall_4: 0.7889\n",
            "Epoch 50/150\n",
            "350/350 [==============================] - 1s 4ms/step - loss: 0.4927 - accuracy: 0.7752 - recall_4: 0.7823 - val_loss: 0.5350 - val_accuracy: 0.7680 - val_recall_4: 0.7476\n",
            "Epoch 51/150\n",
            "350/350 [==============================] - 1s 3ms/step - loss: 0.5094 - accuracy: 0.7609 - recall_4: 0.7195 - val_loss: 0.5492 - val_accuracy: 0.7698 - val_recall_4: 0.7734\n",
            "Epoch 52/150\n",
            "350/350 [==============================] - 2s 6ms/step - loss: 0.4881 - accuracy: 0.7783 - recall_4: 0.7818 - val_loss: 0.5624 - val_accuracy: 0.7715 - val_recall_4: 0.7789\n",
            "Epoch 53/150\n",
            "350/350 [==============================] - 2s 7ms/step - loss: 0.4819 - accuracy: 0.7810 - recall_4: 0.7783 - val_loss: 0.5428 - val_accuracy: 0.7724 - val_recall_4: 0.7507\n",
            "Epoch 54/150\n",
            "350/350 [==============================] - 2s 5ms/step - loss: 0.4756 - accuracy: 0.7822 - recall_4: 0.7641 - val_loss: 0.5579 - val_accuracy: 0.7723 - val_recall_4: 0.7701\n",
            "Epoch 55/150\n",
            "350/350 [==============================] - 1s 4ms/step - loss: 0.4898 - accuracy: 0.7650 - recall_4: 0.7299 - val_loss: 0.5484 - val_accuracy: 0.7672 - val_recall_4: 0.8116\n",
            "Epoch 56/150\n",
            "350/350 [==============================] - 1s 4ms/step - loss: 0.4917 - accuracy: 0.7768 - recall_4: 0.7683 - val_loss: 0.5584 - val_accuracy: 0.7414 - val_recall_4: 0.6863\n",
            "Epoch 57/150\n",
            "350/350 [==============================] - 1s 4ms/step - loss: 0.5029 - accuracy: 0.7741 - recall_4: 0.7717 - val_loss: 0.5696 - val_accuracy: 0.7532 - val_recall_4: 0.7966\n",
            "Epoch 58/150\n",
            "350/350 [==============================] - 1s 4ms/step - loss: 0.4945 - accuracy: 0.7698 - recall_4: 0.7609 - val_loss: 0.5305 - val_accuracy: 0.7670 - val_recall_4: 0.7439\n",
            "Epoch 59/150\n",
            "350/350 [==============================] - 1s 4ms/step - loss: 0.5424 - accuracy: 0.7532 - recall_4: 0.7534 - val_loss: 0.5866 - val_accuracy: 0.7334 - val_recall_4: 0.7382\n",
            "Epoch 60/150\n",
            "350/350 [==============================] - 1s 4ms/step - loss: 0.6470 - accuracy: 0.6683 - recall_4: 0.5596 - val_loss: 0.5638 - val_accuracy: 0.7295 - val_recall_4: 0.6876\n",
            "Epoch 61/150\n",
            "350/350 [==============================] - 2s 5ms/step - loss: 0.5832 - accuracy: 0.7045 - recall_4: 0.6456 - val_loss: 0.5636 - val_accuracy: 0.7280 - val_recall_4: 0.6915\n",
            "Epoch 62/150\n",
            "350/350 [==============================] - 2s 6ms/step - loss: 0.5112 - accuracy: 0.7561 - recall_4: 0.7184 - val_loss: 0.5564 - val_accuracy: 0.7583 - val_recall_4: 0.7703\n",
            "Epoch 63/150\n",
            "350/350 [==============================] - 1s 4ms/step - loss: 0.4931 - accuracy: 0.7692 - recall_4: 0.7432 - val_loss: 0.5311 - val_accuracy: 0.7643 - val_recall_4: 0.7332\n",
            "Epoch 64/150\n",
            "350/350 [==============================] - 1s 4ms/step - loss: 0.5265 - accuracy: 0.7564 - recall_4: 0.6929 - val_loss: 0.5460 - val_accuracy: 0.7586 - val_recall_4: 0.7334\n",
            "Epoch 65/150\n",
            "350/350 [==============================] - 1s 4ms/step - loss: 0.5016 - accuracy: 0.7594 - recall_4: 0.7079 - val_loss: 0.5669 - val_accuracy: 0.7327 - val_recall_4: 0.5802\n",
            "Epoch 66/150\n",
            "350/350 [==============================] - 1s 4ms/step - loss: 0.4933 - accuracy: 0.7728 - recall_4: 0.7387 - val_loss: 0.5279 - val_accuracy: 0.7629 - val_recall_4: 0.7257\n",
            "Epoch 67/150\n",
            "350/350 [==============================] - 1s 4ms/step - loss: 0.4881 - accuracy: 0.7772 - recall_4: 0.7717 - val_loss: 0.5440 - val_accuracy: 0.7695 - val_recall_4: 0.7693\n",
            "Epoch 68/150\n",
            "350/350 [==============================] - 1s 4ms/step - loss: 0.4818 - accuracy: 0.7809 - recall_4: 0.7753 - val_loss: 0.5360 - val_accuracy: 0.7709 - val_recall_4: 0.7676\n",
            "Epoch 69/150\n",
            "350/350 [==============================] - 1s 4ms/step - loss: 0.4811 - accuracy: 0.7837 - recall_4: 0.7653 - val_loss: 0.5406 - val_accuracy: 0.7670 - val_recall_4: 0.7188\n",
            "Epoch 70/150\n",
            "350/350 [==============================] - 1s 4ms/step - loss: 0.4760 - accuracy: 0.7836 - recall_4: 0.7716 - val_loss: 0.5529 - val_accuracy: 0.7571 - val_recall_4: 0.7211\n",
            "Epoch 71/150\n",
            "350/350 [==============================] - 2s 6ms/step - loss: 0.4728 - accuracy: 0.7851 - recall_4: 0.7759 - val_loss: 0.5644 - val_accuracy: 0.7715 - val_recall_4: 0.7486\n",
            "Epoch 72/150\n",
            "350/350 [==============================] - 2s 5ms/step - loss: 0.5233 - accuracy: 0.7387 - recall_4: 0.7517 - val_loss: 0.5504 - val_accuracy: 0.7535 - val_recall_4: 0.7605\n",
            "Epoch 73/150\n",
            "350/350 [==============================] - 1s 4ms/step - loss: 0.5060 - accuracy: 0.7655 - recall_4: 0.7781 - val_loss: 0.5546 - val_accuracy: 0.7558 - val_recall_4: 0.6674\n",
            "Epoch 74/150\n",
            "350/350 [==============================] - 2s 5ms/step - loss: 0.5308 - accuracy: 0.7391 - recall_4: 0.6675 - val_loss: 0.5854 - val_accuracy: 0.7528 - val_recall_4: 0.7018\n",
            "Epoch 75/150\n",
            "350/350 [==============================] - 1s 4ms/step - loss: 0.4973 - accuracy: 0.7761 - recall_4: 0.7827 - val_loss: 0.5506 - val_accuracy: 0.7673 - val_recall_4: 0.7993\n",
            "Epoch 76/150\n",
            "350/350 [==============================] - 1s 4ms/step - loss: 0.5053 - accuracy: 0.7596 - recall_4: 0.7078 - val_loss: 0.5701 - val_accuracy: 0.7672 - val_recall_4: 0.7926\n",
            "Epoch 77/150\n",
            "350/350 [==============================] - 1s 4ms/step - loss: 0.5194 - accuracy: 0.7513 - recall_4: 0.7259 - val_loss: 0.5564 - val_accuracy: 0.7449 - val_recall_4: 0.7920\n",
            "Epoch 78/150\n",
            "350/350 [==============================] - 1s 4ms/step - loss: 0.4978 - accuracy: 0.7691 - recall_4: 0.7631 - val_loss: 0.5576 - val_accuracy: 0.7729 - val_recall_4: 0.7747\n"
          ]
        }
      ]
    },
    {
      "cell_type": "code",
      "source": [
        "plt.plot(history.history['accuracy'])\n",
        "plt.plot(history.history['val_recall_2'])\n",
        "plt.title('model accuracy')\n",
        "plt.ylabel('accuracy')\n",
        "plt.xlabel('epoch')\n",
        "plt.legend(['train', 'test'], loc='upper left')\n",
        "plt.savefig(\"plot\")\n",
        "\n",
        "# Accuracy\n",
        "from sklearn.metrics import accuracy_score\n",
        "\n",
        "embed_test, targets = vectorize(df_test)\n",
        "predictions = model.predict(embed_test).astype(int)\n",
        "print(\"Accuracy: \" + str(accuracy_score(predictions, targets) * 100))"
      ],
      "metadata": {
        "colab": {
          "base_uri": "https://localhost:8080/",
          "height": 507
        },
        "id": "OnnVmsutvU3Z",
        "outputId": "9d626bea-284b-44eb-fc8a-4be2cdf7f35c"
      },
      "execution_count": null,
      "outputs": [
        {
          "output_type": "stream",
          "name": "stdout",
          "text": [
            "250/250 [==============================] - 1s 4ms/step\n",
            "Accuracy: 55.33749999999999\n"
          ]
        },
        {
          "output_type": "display_data",
          "data": {
            "text/plain": [
              "<Figure size 640x480 with 1 Axes>"
            ],
            "image/png": "[encoded data removed]"
          },
          "metadata": {}
        }
      ]
    }
  ]
}